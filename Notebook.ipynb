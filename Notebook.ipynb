{
 "cells": [
  {
   "cell_type": "code",
   "execution_count": 77,
   "metadata": {},
   "outputs": [
    {
     "ename": "ModuleNotFoundError",
     "evalue": "No module named 'progressbar'",
     "output_type": "error",
     "traceback": [
      "\u001b[1;31m---------------------------------------------------------------------------\u001b[0m",
      "\u001b[1;31mModuleNotFoundError\u001b[0m                       Traceback (most recent call last)",
      "\u001b[1;32m<ipython-input-77-2496aa8d413f>\u001b[0m in \u001b[0;36m<module>\u001b[1;34m\u001b[0m\n\u001b[0;32m     34\u001b[0m \u001b[1;32mfrom\u001b[0m \u001b[0m__future__\u001b[0m \u001b[1;32mimport\u001b[0m \u001b[0mprint_function\u001b[0m\u001b[1;33m\u001b[0m\u001b[1;33m\u001b[0m\u001b[0m\n\u001b[0;32m     35\u001b[0m \u001b[1;32mimport\u001b[0m \u001b[0msys\u001b[0m\u001b[1;33m\u001b[0m\u001b[1;33m\u001b[0m\u001b[0m\n\u001b[1;32m---> 36\u001b[1;33m \u001b[1;32mimport\u001b[0m \u001b[0mprogressbar\u001b[0m \u001b[1;32mas\u001b[0m \u001b[0mpb\u001b[0m\u001b[1;33m\u001b[0m\u001b[1;33m\u001b[0m\u001b[0m\n\u001b[0m\u001b[0;32m     37\u001b[0m \u001b[1;32mfrom\u001b[0m \u001b[0mtime\u001b[0m \u001b[1;32mimport\u001b[0m \u001b[0msleep\u001b[0m\u001b[1;33m\u001b[0m\u001b[1;33m\u001b[0m\u001b[0m\n",
      "\u001b[1;31mModuleNotFoundError\u001b[0m: No module named 'progressbar'"
     ]
    }
   ],
   "source": [
    "import speech_recognition as sr\n",
    "from os import path\n",
    "import os.path\n",
    "import operator\n",
    "from os import system\n",
    "from os import listdir\n",
    "from os.path import isfile, join\n",
    "import wave\n",
    "import scipy as sc\n",
    "import librosa\n",
    "import IPython.display as ipd\n",
    "import numpy as np\n",
    "from PIL import Image\n",
    "import matplotlib.pyplot as plt\n",
    "import matplotlib\n",
    "import numpy as np\n",
    "from IPython import get_ipython\n",
    "get_ipython().run_line_magic('matplotlib', 'inline')\n",
    "import math\n",
    "#import librosa as lb\n",
    "import scipy\n",
    "from sklearn.decomposition import PCA\n",
    "import pandas as pd\n",
    "from os import listdir\n",
    "from os.path import isfile, join\n",
    "import time\n",
    "from itertools import product\n",
    "import datetime\n",
    "import sys\n",
    "import pandas as pd\n",
    "import Attack as at\n",
    "import pairing as cpf\n",
    "import copy\n",
    "from __future__ import print_function\n",
    "import sys\n",
    "\n"
   ]
  },
  {
   "cell_type": "code",
   "execution_count": 90,
   "metadata": {},
   "outputs": [],
   "source": [
    "def pair(k1, k2, safe=False):\n",
    "    \"\"\"\n",
    "    Cantor pairing function\n",
    "    http://en.wikipedia.org/wiki/Pairing_function#Cantor_pairing_function\n",
    "    \"\"\"\n",
    "    z = int(0.5 * (k1 + k2) * (k1 + k2 + 1) + k2)\n",
    "    if safe and (k1, k2) != depair(z):\n",
    "        print(z)\n",
    "        raise ValueError(\"{} and {} cannot be paired\".format(k1, k2))\n",
    "        \n",
    "    return z\n",
    "\n",
    "\n",
    "def depair(z):\n",
    "    \"\"\"\n",
    "    Inverse of Cantor pairing function\n",
    "    http://en.wikipedia.org/wiki/Pairing_function#Inverting_the_Cantor_pairing_function\n",
    "    \"\"\"\n",
    "    w = math.floor((math.sqrt(8 * z + 1) - 1)/2)\n",
    "    t = (w**2 + w) / 2\n",
    "    y = int(z - t)\n",
    "    x = int(w - y)\n",
    "    # assert z != pair(x, y, safe=False):\n",
    "    return x, y"
   ]
  },
  {
   "cell_type": "code",
   "execution_count": 100,
   "metadata": {},
   "outputs": [
    {
     "name": "stderr",
     "output_type": "stream",
     "text": [
      "<ipython-input-100-da831d67e29b>:1: WavFileWarning: Chunk (non-data) not understood, skipping it.\n",
      "  fs, data = scipy.io.wavfile.read(r'C:\\Users\\Stephen\\Downloads\\the grape part.wav')\n",
      "<ipython-input-90-d4d2ba163b60>:6: RuntimeWarning: overflow encountered in short_scalars\n",
      "  z = int(0.5 * (k1 + k2) * (k1 + k2 + 1) + k2)\n"
     ]
    }
   ],
   "source": [
    "fs, data = scipy.io.wavfile.read(r'C:\\Users\\Stephen\\Downloads\\the grape part.wav')\n",
    "#np.set_printoptions(threshold=10000)\n",
    "#print(data.tolist())\n",
    "#print(len(data.tolist()))\n",
    "#print((data.tolist()))\n",
    "#print(len(np.fft.rfft(data).tolist()))\n",
    "#print((np.fft.rfft(data).tolist()))\n",
    "\n",
    "\n",
    "#INADVERTENDLY MAKES FILES TWICE AS BIG, NICE LOL\n",
    "# Maybe Try recursive cantor pairing, keeping track of how many levels you go down at the beginning of the file\n",
    "\n",
    "\n",
    "newdata=compress(data)\n",
    "f = open(r'C:\\Users\\Stephen\\Desktop\\out.czip', \"a\")\n",
    "for i in range(0,len(newdata)):\n",
    "    f.write(newdata[i]+\" \")\n",
    "f.close()"
   ]
  },
  {
   "cell_type": "code",
   "execution_count": 94,
   "metadata": {},
   "outputs": [],
   "source": [
    "def compress(data):\n",
    "    compressed=list()\n",
    "    moddata = copy.deepcopy(data)\n",
    "    for i in range(0,len(data)):\n",
    "        if data[i][0] == data[i][1]:\n",
    "            compressed.append(\"e\"+str(data[i][0]))\n",
    "            continue\n",
    "        anegative = False\n",
    "        bnegative = False\n",
    "        if moddata[i][0] < 0:\n",
    "            anegative=True\n",
    "            moddata[i][0] *=-1\n",
    "        if moddata[i][1] <0:\n",
    "            bnegative=True\n",
    "            moddata[i][1] *=-1\n",
    "        idx=pair(moddata[i][0],moddata[i][1])\n",
    "        \n",
    "        if anegative is True:\n",
    "            if bnegative is True:\n",
    "                compressed.append(\"n\"+str(idx)+\"n\")\n",
    "            elif bnegative is False:\n",
    "                compressed.append(\"n\"+str(idx))\n",
    "        elif bnegative is True:\n",
    "            compressed.append(str(idx)+\"n\")\n",
    "        else:\n",
    "            compressed.append(str(idx))\n",
    "    return compressed"
   ]
  },
  {
   "cell_type": "code",
   "execution_count": 80,
   "metadata": {},
   "outputs": [],
   "source": []
  },
  {
   "cell_type": "code",
   "execution_count": null,
   "metadata": {},
   "outputs": [],
   "source": []
  }
 ],
 "metadata": {
  "kernelspec": {
   "display_name": "Python 3",
   "language": "python",
   "name": "python3"
  },
  "language_info": {
   "codemirror_mode": {
    "name": "ipython",
    "version": 3
   },
   "file_extension": ".py",
   "mimetype": "text/x-python",
   "name": "python",
   "nbconvert_exporter": "python",
   "pygments_lexer": "ipython3",
   "version": "3.8.3"
  }
 },
 "nbformat": 4,
 "nbformat_minor": 2
}
